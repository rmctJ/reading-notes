{
 "cells": [
  {
   "cell_type": "markdown",
   "metadata": {},
   "source": [
    "# 保障内容\n",
    "\n",
    "- 死亡保障\n",
    "- 入院保障"
   ]
  },
  {
   "cell_type": "markdown",
   "metadata": {},
   "source": [
    "## 死亡保障\n",
    "\n",
    "保険料は「生命表」から算出。\n",
    "\n",
    "### 二種類の「生命表」\n",
    "\n",
    "#### 簡易生命表\n",
    "\n",
    "毎年10月1日現在の推計人口。\n",
    "\n",
    "#### 完全生命表\n",
    "\n",
    "5年一度の国勢調査を元に出される。"
   ]
  },
  {
   "cell_type": "markdown",
   "metadata": {},
   "source": [
    "## 入院保障\n",
    "\n",
    "厚労省の「患者調査」から作成される「受療率」"
   ]
  },
  {
   "cell_type": "markdown",
   "metadata": {},
   "source": [
    "# 配当/三利源\n",
    "\n",
    "- 死差配当\n",
    "- 費差配当\n",
    "- 利差配当\n",
    "\n",
    "## 死差配当\n",
    "\n",
    "死亡人数が予想より少なかった時。\n",
    "\n",
    "## 費差配当\n",
    "\n",
    "経費が予想より少なかった時。\n",
    "\n",
    "## 利差配当\n",
    "\n",
    "保険料の運用利益が予想より多かった時。"
   ]
  }
 ],
 "metadata": {
  "interpreter": {
   "hash": "916dbcbb3f70747c44a77c7bcd40155683ae19c65e1c03b4aa3499c5328201f1"
  },
  "kernelspec": {
   "display_name": "Python 3.8.10 64-bit",
   "language": "python",
   "name": "python3"
  },
  "language_info": {
   "name": "python",
   "version": "3.8.10"
  },
  "orig_nbformat": 4
 },
 "nbformat": 4,
 "nbformat_minor": 2
}
