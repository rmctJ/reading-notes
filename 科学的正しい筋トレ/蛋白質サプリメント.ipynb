{
 "cells": [
  {
   "cell_type": "markdown",
   "metadata": {},
   "source": [
    "# 分類\n",
    "\n",
    "## [ホエイ](https://ja.wikipedia.org/wiki/カゼイン)\n",
    "\n",
    "牛乳から脂肪や固形分が取り除いたもの。乳清。水溶性蛋白質であり、吸収速度が最も早い。\n",
    "\n",
    "## [カゼイン](https://ja.wikipedia.org/wiki/カゼイン)\n",
    "\n",
    "牛乳に含まれる固形蛋白質から作られるもの。水に溶けにくい。吸収速度が最も遅い。\n",
    "\n",
    "## ソイ\n",
    "\n",
    "大豆の植物性蛋白質から作られるもの。吸収速度がホエイとカゼインの中間。"
   ]
  },
  {
   "cell_type": "code",
   "execution_count": null,
   "metadata": {},
   "outputs": [],
   "source": []
  }
 ],
 "metadata": {
  "language_info": {
   "name": "python"
  },
  "orig_nbformat": 4
 },
 "nbformat": 4,
 "nbformat_minor": 2
}
